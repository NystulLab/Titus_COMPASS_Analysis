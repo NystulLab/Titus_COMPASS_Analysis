{
 "cells": [
  {
   "cell_type": "code",
   "execution_count": 23,
   "id": "8eff8ec4",
   "metadata": {},
   "outputs": [
    {
     "name": "stdout",
     "output_type": "stream",
     "text": [
      "Renamed: 20250506 tr3-01(64)-ApoTome RAW Convert-64.czi → 20250605 6g3_001.czi\n",
      "Renamed: 20250506 tr3-01(65)-ApoTome RAW Convert-65.czi → 20250605 6g3_002.czi\n",
      "Renamed: 20250506 tr3-01(66)-ApoTome RAW Convert-66.czi → 20250605 6g3_003.czi\n",
      "Renamed: 20250506 tr3-01(67)-ApoTome RAW Convert-67.czi → 20250605 6g3_004.czi\n",
      "Renamed: 20250506 tr3-01(68)-ApoTome RAW Convert-68.czi → 20250605 6g3_005.czi\n",
      "Renamed: 20250506 tr3-01(69)-ApoTome RAW Convert-69.czi → 20250605 6g3_006.czi\n",
      "Renamed: 20250506 tr3-01(70)-ApoTome RAW Convert-70.czi → 20250605 6g3_007.czi\n",
      "Renamed: 20250506 tr3-01(71)-ApoTome RAW Convert-71.czi → 20250605 6g3_008.czi\n",
      "Renamed: 20250506 tr3-01(72)-ApoTome RAW Convert-72.czi → 20250605 6g3_009.czi\n",
      "Renamed: 20250506 tr3-01(73)-ApoTome RAW Convert-73.czi → 20250605 6g3_010.czi\n",
      "Renamed: 20250506 tr3-01(74)-ApoTome RAW Convert-74.czi → 20250605 6g3_011.czi\n",
      "Renamed: 20250506 tr3-01(75)-ApoTome RAW Convert-75.czi → 20250605 6g3_012.czi\n"
     ]
    }
   ],
   "source": [
    "import os\n",
    "\n",
    "folder = \"/media/el_tito/T7 Shield/20250605 histone compass/2025-09-11/rename/\"\n",
    "base_name = \"20250605 6g3\"\n",
    "extension = \".czi\"\n",
    "\n",
    "# Sanity check\n",
    "if not os.path.isdir(folder):\n",
    "    raise FileNotFoundError(f\"Folder does not exist: {folder}\")\n",
    "\n",
    "# Rename files\n",
    "czi_files = sorted(f for f in os.listdir(folder) if f.lower().endswith(extension))\n",
    "\n",
    "for i, filename in enumerate(czi_files, start=1):\n",
    "    new_name = f\"{base_name}_{i:03d}{extension}\"\n",
    "    old_path = os.path.join(folder, filename)\n",
    "    new_path = os.path.join(folder, new_name)\n",
    "    os.rename(old_path, new_path)\n",
    "    print(f\"Renamed: {filename} → {new_name}\")\n"
   ]
  }
 ],
 "metadata": {
  "kernelspec": {
   "display_name": "base",
   "language": "python",
   "name": "python3"
  },
  "language_info": {
   "codemirror_mode": {
    "name": "ipython",
    "version": 3
   },
   "file_extension": ".py",
   "mimetype": "text/x-python",
   "name": "python",
   "nbconvert_exporter": "python",
   "pygments_lexer": "ipython3",
   "version": "3.12.2"
  }
 },
 "nbformat": 4,
 "nbformat_minor": 5
}
